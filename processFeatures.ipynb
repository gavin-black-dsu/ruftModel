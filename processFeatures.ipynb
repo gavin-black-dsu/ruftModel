{
 "cells": [
  {
   "cell_type": "raw",
   "id": "9f5ab1f8-023a-4a06-8f1a-0a68722d2bce",
   "metadata": {},
   "source": [
    "References\n",
    "\n",
    "Identifying Useful Features for Malware Detection in the Ember Dataset \\cite{8951564} \n",
    " - Entropy\n",
    " - Byte Histogram (Counts)\n",
    "\n",
    "Integrated Static and Dynamic Analysis for Malware Detection \\cite{SHIJO2015804}\n",
    " - String presence\n",
    " - n-gram frequencies\n",
    "\n",
    "Malware Detection in Android via Neural Network using Entropy Features \\cite{9701413}\n",
    " - Sliding window entropy\n",
    " "
   ]
  },
  {
   "cell_type": "code",
   "execution_count": 1,
   "id": "413d9f5d-7dc2-4668-ad14-f5be6b90d5dc",
   "metadata": {},
   "outputs": [],
   "source": [
    "from scipy.stats import entropy\n",
    "from collections import Counter\n",
    "import numpy as np\n",
    "import os\n",
    "from tqdm.notebook import tqdm\n",
    "import pandas as pd\n",
    "import pickle"
   ]
  },
  {
   "cell_type": "code",
   "execution_count": 2,
   "id": "7b6b60a6-b3aa-49f6-9582-64326cb1afa1",
   "metadata": {},
   "outputs": [
    {
     "name": "stdout",
     "output_type": "stream",
     "text": [
      "(0.0, array([0, 0, 0, 0, 0, 0, 0, 0, 0, 0, 0, 0, 0, 0, 0, 0, 0, 0, 0, 0, 0, 0,\n",
      "       0, 0, 0, 0, 0, 0, 0, 0, 0, 0, 0, 0, 0, 0, 0, 0, 0, 0, 0, 0, 0, 0,\n",
      "       0, 0, 0, 0, 0, 0, 0, 0, 0, 0, 0, 0, 0, 0, 0, 0, 0, 0, 0, 0, 0, 0,\n",
      "       0, 0, 0, 0, 0, 0, 0, 0, 0, 0, 0, 0, 0, 0, 0, 0, 0, 0, 0, 0, 0, 0,\n",
      "       0, 0, 0, 0, 0, 0, 0, 0, 0, 0, 0, 0, 0, 0, 0, 0, 0, 0, 0, 0, 0, 0,\n",
      "       0, 0, 0, 0, 0, 0, 0, 0, 0, 0, 0, 1, 0, 0, 0, 0, 0, 0, 0, 0, 0, 0,\n",
      "       0, 0, 0, 0, 0, 0, 0, 0, 0, 0, 0, 0, 0, 0, 0, 0, 0, 0, 0, 0, 0, 0,\n",
      "       0, 0, 0, 0, 0, 0, 0, 0, 0, 0, 0, 0, 0, 0, 0, 0, 0, 0, 0, 0, 0, 0,\n",
      "       0, 0, 0, 0, 0, 0, 0, 0, 0, 0, 0, 0, 0, 0, 0, 0, 0, 0, 0, 0, 0, 0,\n",
      "       0, 0, 0, 0, 0, 0, 0, 0, 0, 0, 0, 0, 0, 0, 0, 0, 0, 0, 0, 0, 0, 0,\n",
      "       0, 0, 0, 0, 0, 0, 0, 0, 0, 0, 0, 0, 0, 0, 0, 0, 0, 0, 0, 0, 0, 0,\n",
      "       0, 0, 0, 0, 0, 0, 0, 0, 0, 0, 0, 0, 0, 0]))\n"
     ]
    }
   ],
   "source": [
    "def get_entropy(byte_array):\n",
    "    counts = [0] * 256\n",
    "    for byte in byte_array:\n",
    "        counts[byte] += 1\n",
    "    counts = np.array(counts)\n",
    "    ent = entropy(counts, base=2)\n",
    "    \n",
    "    return (ent, counts )\n",
    "\n",
    "print(get_entropy(b\"y\"))"
   ]
  },
  {
   "cell_type": "code",
   "execution_count": 3,
   "id": "812e1432-666b-4765-b538-131b5291f744",
   "metadata": {},
   "outputs": [
    {
     "data": {
      "application/vnd.jupyter.widget-view+json": {
       "model_id": "b01143e05542486abc5ea29a927cc459",
       "version_major": 2,
       "version_minor": 0
      },
      "text/plain": [
       "Extending Strings:   0%|          | 0/6 [00:00<?, ?it/s]"
      ]
     },
     "metadata": {},
     "output_type": "display_data"
    },
    {
     "name": "stdout",
     "output_type": "stream",
     "text": [
      "260\n",
      "Enforcing minimum occurrence\n",
      "Sorting...\n"
     ]
    },
    {
     "data": {
      "application/vnd.jupyter.widget-view+json": {
       "model_id": "76107f743a6b423491aaafd8c1c2442c",
       "version_major": 2,
       "version_minor": 0
      },
      "text/plain": [
       "Filtering Strings:   0%|          | 0/7 [00:00<?, ?it/s]"
      ]
     },
     "metadata": {},
     "output_type": "display_data"
    },
    {
     "name": "stdout",
     "output_type": "stream",
     "text": [
      "['foobar', 'test']\n"
     ]
    }
   ],
   "source": [
    "def get_substrings(s, min_length, max_length):\n",
    "    \"\"\"Generate substrings of a given string within a specified length range.\"\"\"\n",
    "    length = len(s)\n",
    "    return [s[i:j] for i in range(length) for j in range(i + min_length, min(i + max_length + 1, length + 1))]\n",
    "\n",
    "def most_common_substrings(strings, min_substring_length=4, max_substring_length=10, min_occurrences=3):\n",
    "    \"\"\"Return the most common substrings sorted by frequency and alphabetically, \n",
    "    excluding those that are substrings of other returned values.\"\"\"\n",
    "    substrings = []\n",
    "    for string in tqdm(strings, desc=\"Extending Strings\"):\n",
    "        substrings.extend(get_substrings(string, min_substring_length, max_substring_length))\n",
    "\n",
    "    # Count the frequency of each substring\n",
    "    substring_count = Counter(substrings)\n",
    "    print(len(substrings))\n",
    "    \n",
    "    # Filter substrings based on minimum occurrence threshold\n",
    "    print(\"Enforcing minimum occurrence\")\n",
    "    filtered_substrings = {substring: count for substring, count in substring_count.items() if count >= min_occurrences}\n",
    "\n",
    "    # Sort by frequency (descending) and alphabetically\n",
    "    print(\"Sorting...\")\n",
    "    sorted_substrings = sorted(filtered_substrings, key=lambda x: (-filtered_substrings[x], x))\n",
    "    sorted_substrings = sorted_substrings[:10000]\n",
    "    # Remove substrings that are part of longer substrings in the list\n",
    "    final_substrings = []\n",
    "    for substring in tqdm(sorted_substrings, desc=\"Filtering Strings\"):\n",
    "        if not any(substring in other and substring != other for other in sorted_substrings):\n",
    "            final_substrings.append(substring)\n",
    "\n",
    "    return final_substrings\n",
    "\n",
    "\n",
    "# Example usage\n",
    "strings = [\"testing\", \"this is a test\", \"foobar\", \"fazbar\", \"what is foobar\", \"can afoobart the testers\"]\n",
    "print(most_common_substrings(strings))"
   ]
  },
  {
   "cell_type": "code",
   "execution_count": 4,
   "id": "9741d7dc-3dc0-4709-a9e5-0deade422ce1",
   "metadata": {},
   "outputs": [
    {
     "data": {
      "application/vnd.jupyter.widget-view+json": {
       "model_id": "bc9a6c94f1374521af16728a3b5d4376",
       "version_major": 2,
       "version_minor": 0
      },
      "text/plain": [
       "Creating unique n-grams:   0%|          | 0/3 [00:00<?, ?it/s]"
      ]
     },
     "metadata": {},
     "output_type": "display_data"
    },
    {
     "name": "stdout",
     "output_type": "stream",
     "text": [
      "['on p', 'ramm', 'rogr', 'ming', 'o wo', 'ogra', ' of ', 'hell', 'n pr', 'llo ', 'f py', 'ytho', 'lo w', 'thon', ' wor', 'prog', 'rld ', 'worl', 'orld', 'd of', 'gram', 'of p', 'pyth', ' pyt', ' pro', 'ammi', 'ld o', 'mmin', 'ello', 'hon ']\n",
      "[0, 0, 0, 0, 0, 0, 0, 1, 0, 1, 0, 0, 0, 0, 0, 0, 0, 0, 0, 0, 0, 0, 0, 0, 0, 0, 0, 0, 1, 0]\n",
      "N-gram at index 7: hell\n",
      "N-gram at index 9: llo \n",
      "N-gram at index 28: ello\n"
     ]
    }
   ],
   "source": [
    "\n",
    "def create_unique_ngrams_set(strings, n):\n",
    "    def generate_ngrams(s):\n",
    "        return [s[i:i + n] for i in range(len(s) - n + 1)]\n",
    "\n",
    "    all_ngrams = set()\n",
    "    for s in tqdm(strings, desc=\"Creating unique n-grams\"):\n",
    "        ngrams = generate_ngrams(s)\n",
    "        all_ngrams.update(ngrams)\n",
    "    return list(all_ngrams)  # Convert to list to maintain order\n",
    "\n",
    "def count_ngrams_in_string(s, ngrams, n):\n",
    "    ngram_counts = Counter(s[i:i + n] for i in range(len(s) - n + 1))\n",
    "    return [ngram_counts[ngram] for ngram in ngrams]\n",
    "\n",
    "def get_ngram_by_index(ngrams, index):\n",
    "    if 0 <= index < len(ngrams):\n",
    "        return ngrams[index]\n",
    "    else:\n",
    "        return \"Index out of range\"\n",
    "\n",
    "# Example usage\n",
    "n = 4\n",
    "strings = [\"hello world\", \"world of python\", \"python programming\"]\n",
    "unique_ngrams = create_unique_ngrams_set(strings, n)\n",
    "print(unique_ngrams)\n",
    "\n",
    "test_string = \"hello \"\n",
    "ngram_counts = count_ngrams_in_string(test_string, unique_ngrams, n)\n",
    "print(ngram_counts)\n",
    "\n",
    "# Get the n-gram at a specific index\n",
    "for i, x in enumerate(ngram_counts):\n",
    "    if x > 0: \n",
    "        ngram_at_index = get_ngram_by_index(unique_ngrams, i)\n",
    "        print(f\"N-gram at index {i}: {ngram_at_index}\")"
   ]
  },
  {
   "cell_type": "markdown",
   "id": "758b15b5-1d17-4f79-b403-3e7bc01c33b0",
   "metadata": {},
   "source": [
    "# Process corpus from fuzzing results"
   ]
  },
  {
   "cell_type": "code",
   "execution_count": 5,
   "id": "d2f0a641-51f5-4708-bb99-6551402498ea",
   "metadata": {},
   "outputs": [],
   "source": [
    "data_nominal = \"./data/fuzzingprotection/libxml2_nominal500k/\"\n",
    "data_crash = \"./data/fuzzingprotection/libxml2_crash500k/\"\n",
    "\n",
    "def read_files_to_byte_array(directory):\n",
    "    file_contents = []\n",
    "    files = [f for f in os.listdir(directory) if os.path.isfile(os.path.join(directory, f))]\n",
    "\n",
    "    # Using tqdm to show progress\n",
    "    for filename in tqdm(files, desc=\"Reading files\"):\n",
    "        file_path = os.path.join(directory, filename)\n",
    "\n",
    "        with open(file_path, 'rb') as file:\n",
    "            content = file.read()\n",
    "            file_contents.append(content)\n",
    "\n",
    "    return list(set(file_contents))\n",
    "\n"
   ]
  },
  {
   "cell_type": "code",
   "execution_count": 6,
   "id": "01aa48aa-9cce-46c9-8bcc-93e2861e8a94",
   "metadata": {},
   "outputs": [
    {
     "data": {
      "application/vnd.jupyter.widget-view+json": {
       "model_id": "4b32cf99c8b746dbab7b9d065aedc195",
       "version_major": 2,
       "version_minor": 0
      },
      "text/plain": [
       "Reading files:   0%|          | 0/541746 [00:00<?, ?it/s]"
      ]
     },
     "metadata": {},
     "output_type": "display_data"
    },
    {
     "data": {
      "application/vnd.jupyter.widget-view+json": {
       "model_id": "35b774638a5a4baea379d77181f7ee8c",
       "version_major": 2,
       "version_minor": 0
      },
      "text/plain": [
       "Reading files:   0%|          | 0/521279 [00:00<?, ?it/s]"
      ]
     },
     "metadata": {},
     "output_type": "display_data"
    }
   ],
   "source": [
    "data = read_files_to_byte_array(data_nominal)\n",
    "labels = [0]*len(data)\n",
    "data += read_files_to_byte_array(data_crash)\n",
    "labels += [1]* (len(data) - len(labels))"
   ]
  },
  {
   "cell_type": "code",
   "execution_count": 7,
   "id": "54d02dfd-f647-4c68-a293-4ef8df473ba0",
   "metadata": {},
   "outputs": [
    {
     "data": {
      "application/vnd.jupyter.widget-view+json": {
       "model_id": "4e5d1d7b44b24d70a7bc789107bab6ab",
       "version_major": 2,
       "version_minor": 0
      },
      "text/plain": [
       "Analyzing Samples:   0%|          | 0/1042907 [00:00<?, ?it/s]"
      ]
     },
     "metadata": {},
     "output_type": "display_data"
    }
   ],
   "source": [
    "# Metadata about the dataset\n",
    "\n",
    "max_len = max([len(d) for d in data])\n",
    "unique_bytes = set()\n",
    "for d in tqdm(data, desc=\"Analyzing Samples\"):\n",
    "    for b in d: unique_bytes.add(b)\n",
    "    \n",
    "\n"
   ]
  },
  {
   "cell_type": "code",
   "execution_count": 8,
   "id": "32df2040-40e5-4d5d-9f07-f2e4181bc72d",
   "metadata": {},
   "outputs": [
    {
     "data": {
      "application/vnd.jupyter.widget-view+json": {
       "model_id": "13eb7ef82e1d440b90c2886dc983a754",
       "version_major": 2,
       "version_minor": 0
      },
      "text/plain": [
       "Extending Strings:   0%|          | 0/1042907 [00:00<?, ?it/s]"
      ]
     },
     "metadata": {},
     "output_type": "display_data"
    },
    {
     "name": "stdout",
     "output_type": "stream",
     "text": [
      "587475668\n",
      "Enforcing minimum occurrence\n",
      "Sorting...\n"
     ]
    },
    {
     "data": {
      "application/vnd.jupyter.widget-view+json": {
       "model_id": "5df6f854486b400db3074a422d839b4d",
       "version_major": 2,
       "version_minor": 0
      },
      "text/plain": [
       "Filtering Strings:   0%|          | 0/10000 [00:00<?, ?it/s]"
      ]
     },
     "metadata": {},
     "output_type": "display_data"
    }
   ],
   "source": [
    "common_substrings = most_common_substrings(data,min_occurrences=100)[:100]\n"
   ]
  },
  {
   "cell_type": "code",
   "execution_count": 9,
   "id": "f50c4cc1-e686-48fa-9cda-4184483a235d",
   "metadata": {},
   "outputs": [],
   "source": [
    "#n = 3\n",
    "#unique_ngrams = create_unique_ngrams_set(data, n)"
   ]
  },
  {
   "cell_type": "code",
   "execution_count": 10,
   "id": "c15c7492-ef44-4f54-8410-93d1a630a400",
   "metadata": {},
   "outputs": [],
   "source": [
    "#len(unique_ngrams)"
   ]
  },
  {
   "cell_type": "code",
   "execution_count": 11,
   "id": "70fc6000-4b78-45d2-a608-544065c8385d",
   "metadata": {},
   "outputs": [
    {
     "data": {
      "text/plain": [
       "'a'"
      ]
     },
     "execution_count": 11,
     "metadata": {},
     "output_type": "execute_result"
    }
   ],
   "source": [
    "chr(97)"
   ]
  },
  {
   "cell_type": "code",
   "execution_count": 12,
   "id": "0e5a95aa-a829-44c5-8451-1cbac7833264",
   "metadata": {},
   "outputs": [],
   "source": [
    "row_names = [\"entropy\"]\n",
    "for i in range(256):\n",
    "    row_names.append(chr(i))\n",
    "for x in common_substrings:\n",
    "    row_names.append(x)\n",
    "row_names.append(\"sample\")\n",
    "row_names.append(\"crash\")\n"
   ]
  },
  {
   "cell_type": "code",
   "execution_count": 13,
   "id": "cb492d3a-610b-4e07-a6be-51199fb428ac",
   "metadata": {},
   "outputs": [
    {
     "data": {
      "application/vnd.jupyter.widget-view+json": {
       "model_id": "e3fd3ecf625a49c582d51ae8b9d17381",
       "version_major": 2,
       "version_minor": 0
      },
      "text/plain": [
       "Finding maximums:   0%|          | 0/1042907 [00:00<?, ?it/s]"
      ]
     },
     "metadata": {},
     "output_type": "display_data"
    }
   ],
   "source": [
    "max_byte_counts = [0]*256\n",
    "max_ent = 0\n",
    "\n",
    "for d in tqdm(data, \"Finding maximums\"):\n",
    "    ent, bs = get_entropy(d) \n",
    "    if ent > max_ent: max_ent = ent\n",
    "    for i, c in enumerate(bs):\n",
    "        if c > max_byte_counts[i]: max_byte_counts[i] = c\n",
    "max_byte_counts = np.array(max_byte_counts, dtype=\"float64\")"
   ]
  },
  {
   "cell_type": "code",
   "execution_count": 14,
   "id": "3e19173f-d828-4c30-838c-2ea96f6eaca7",
   "metadata": {},
   "outputs": [
    {
     "data": {
      "application/vnd.jupyter.widget-view+json": {
       "model_id": "93f2d8d073c74212938b31e70a7ad4f0",
       "version_major": 2,
       "version_minor": 0
      },
      "text/plain": [
       "Processing samples:   0%|          | 0/1042907 [00:00<?, ?it/s]"
      ]
     },
     "metadata": {},
     "output_type": "display_data"
    },
    {
     "name": "stderr",
     "output_type": "stream",
     "text": [
      "IOStream.flush timed out\n",
      "IOStream.flush timed out\n",
      "IOStream.flush timed out\n"
     ]
    }
   ],
   "source": [
    "# Process each sample\n",
    "\n",
    "features = []\n",
    "for d,l in tqdm(zip(data,labels), total=len(data), desc=\"Processing samples\"):\n",
    "    substrings = [0]*100\n",
    "    ent, bs = get_entropy(d)\n",
    "    bs = bs.astype('float64') \n",
    "    ent /= max_ent\n",
    "    bs /= max_byte_counts\n",
    "    for i, s in enumerate(common_substrings):\n",
    "        if s in d: substrings[i] = 1\n",
    "    \n",
    "    row = [ent]\n",
    "    row += list(bs)\n",
    "    row += list(substrings)\n",
    "    row += [d]\n",
    "    row += [l] # Training labels must be last\n",
    "    features.append( row ) "
   ]
  },
  {
   "cell_type": "code",
   "execution_count": 15,
   "id": "73c1d361-2dab-418c-959d-03a06d074600",
   "metadata": {},
   "outputs": [
    {
     "data": {
      "text/plain": [
       "359"
      ]
     },
     "execution_count": 15,
     "metadata": {},
     "output_type": "execute_result"
    }
   ],
   "source": [
    "len(row_names)"
   ]
  },
  {
   "cell_type": "code",
   "execution_count": 16,
   "id": "b887ba5d-c30a-4b21-b932-b2a2e48864e1",
   "metadata": {},
   "outputs": [
    {
     "data": {
      "text/plain": [
       "359"
      ]
     },
     "execution_count": 16,
     "metadata": {},
     "output_type": "execute_result"
    }
   ],
   "source": [
    "len(features[0])"
   ]
  },
  {
   "cell_type": "code",
   "execution_count": 17,
   "id": "b32a9326-6fc1-4e84-ba04-441fc5581b14",
   "metadata": {},
   "outputs": [],
   "source": []
  },
  {
   "cell_type": "code",
   "execution_count": 18,
   "id": "f5437bf6-ed58-475a-bb2f-614e91c0beaf",
   "metadata": {},
   "outputs": [],
   "source": [
    "df = pd.DataFrame(features, columns=row_names)"
   ]
  },
  {
   "cell_type": "code",
   "execution_count": 19,
   "id": "e3f862b2-1d73-4e8c-aef0-494864db20e8",
   "metadata": {},
   "outputs": [],
   "source": [
    "df.to_pickle(\"data/libxml2_train.pkl\")"
   ]
  },
  {
   "cell_type": "code",
   "execution_count": 20,
   "id": "bb2b3614-4729-48b4-a89d-a4786e06bed9",
   "metadata": {},
   "outputs": [],
   "source": [
    "df2 = pd.read_pickle(\"data/libxml2_train.pkl\")"
   ]
  },
  {
   "cell_type": "code",
   "execution_count": 21,
   "id": "7cce00de-e2c0-4fd7-87ec-8d7702337aaa",
   "metadata": {},
   "outputs": [
    {
     "data": {
      "text/html": [
       "<div>\n",
       "<style scoped>\n",
       "    .dataframe tbody tr th:only-of-type {\n",
       "        vertical-align: middle;\n",
       "    }\n",
       "\n",
       "    .dataframe tbody tr th {\n",
       "        vertical-align: top;\n",
       "    }\n",
       "\n",
       "    .dataframe thead th {\n",
       "        text-align: right;\n",
       "    }\n",
       "</style>\n",
       "<table border=\"1\" class=\"dataframe\">\n",
       "  <thead>\n",
       "    <tr style=\"text-align: right;\">\n",
       "      <th></th>\n",
       "      <th>entropy</th>\n",
       "      <th>\u0000</th>\n",
       "      <th>\u0001</th>\n",
       "      <th>\u0002</th>\n",
       "      <th>\u0003</th>\n",
       "      <th>\u0004</th>\n",
       "      <th>\u0005</th>\n",
       "      <th>\u0006</th>\n",
       "      <th>\u0007</th>\n",
       "      <th>\b</th>\n",
       "      <th>...</th>\n",
       "      <th>b'!ENTITYd&lt;!'</th>\n",
       "      <th>b'\\xff\\xfe\\xfe\\xfe@\\x80\\x00\\xd9&lt;?'</th>\n",
       "      <th>b'ENTITYd&lt;!A'</th>\n",
       "      <th>b'ITYd&lt;!ATTL'</th>\n",
       "      <th>b'rsion=\"2.5'</th>\n",
       "      <th>b'NTITYd&lt;!AT'</th>\n",
       "      <th>b'TITYd&lt;!ATT'</th>\n",
       "      <th>b'rsion=\"1.0'</th>\n",
       "      <th>sample</th>\n",
       "      <th>crash</th>\n",
       "    </tr>\n",
       "  </thead>\n",
       "  <tbody>\n",
       "    <tr>\n",
       "      <th>0</th>\n",
       "      <td>0.645256</td>\n",
       "      <td>0.021583</td>\n",
       "      <td>0.0</td>\n",
       "      <td>0.000000</td>\n",
       "      <td>0.0</td>\n",
       "      <td>0.000000</td>\n",
       "      <td>0.0</td>\n",
       "      <td>0.000000</td>\n",
       "      <td>0.0</td>\n",
       "      <td>0.0</td>\n",
       "      <td>...</td>\n",
       "      <td>0</td>\n",
       "      <td>0</td>\n",
       "      <td>0</td>\n",
       "      <td>0</td>\n",
       "      <td>0</td>\n",
       "      <td>0</td>\n",
       "      <td>0</td>\n",
       "      <td>0</td>\n",
       "      <td>b'&lt;!DOCTYPE%;%[G\\xff;\\x00&lt;\\xcd&lt;\\x8fDOCTYPE\\xff...</td>\n",
       "      <td>0</td>\n",
       "    </tr>\n",
       "    <tr>\n",
       "      <th>1</th>\n",
       "      <td>0.687793</td>\n",
       "      <td>0.000000</td>\n",
       "      <td>0.0</td>\n",
       "      <td>0.000000</td>\n",
       "      <td>0.0</td>\n",
       "      <td>0.000000</td>\n",
       "      <td>0.0</td>\n",
       "      <td>0.000000</td>\n",
       "      <td>0.0</td>\n",
       "      <td>0.0</td>\n",
       "      <td>...</td>\n",
       "      <td>0</td>\n",
       "      <td>0</td>\n",
       "      <td>0</td>\n",
       "      <td>0</td>\n",
       "      <td>0</td>\n",
       "      <td>0</td>\n",
       "      <td>0</td>\n",
       "      <td>0</td>\n",
       "      <td>b'&lt;!D&lt;!ATTL&lt;!DOCTYPETYdOCTYPEU\\\\[&lt;!ENTIU\\\\[&lt;!E...</td>\n",
       "      <td>0</td>\n",
       "    </tr>\n",
       "    <tr>\n",
       "      <th>2</th>\n",
       "      <td>0.801382</td>\n",
       "      <td>0.000000</td>\n",
       "      <td>0.0</td>\n",
       "      <td>0.000000</td>\n",
       "      <td>0.0</td>\n",
       "      <td>0.000000</td>\n",
       "      <td>0.0</td>\n",
       "      <td>0.000000</td>\n",
       "      <td>0.0</td>\n",
       "      <td>0.0</td>\n",
       "      <td>...</td>\n",
       "      <td>1</td>\n",
       "      <td>0</td>\n",
       "      <td>1</td>\n",
       "      <td>1</td>\n",
       "      <td>0</td>\n",
       "      <td>1</td>\n",
       "      <td>1</td>\n",
       "      <td>0</td>\n",
       "      <td>b'&lt;Yxml xml:spaceml:dio7=\\'g\\n\\n\\n\\n\\n\\n\\n\\n\\n...</td>\n",
       "      <td>0</td>\n",
       "    </tr>\n",
       "    <tr>\n",
       "      <th>3</th>\n",
       "      <td>0.782414</td>\n",
       "      <td>0.000000</td>\n",
       "      <td>0.0</td>\n",
       "      <td>0.000000</td>\n",
       "      <td>0.0</td>\n",
       "      <td>0.000000</td>\n",
       "      <td>0.0</td>\n",
       "      <td>0.007246</td>\n",
       "      <td>0.0</td>\n",
       "      <td>0.0</td>\n",
       "      <td>...</td>\n",
       "      <td>0</td>\n",
       "      <td>0</td>\n",
       "      <td>0</td>\n",
       "      <td>0</td>\n",
       "      <td>0</td>\n",
       "      <td>0</td>\n",
       "      <td>0</td>\n",
       "      <td>0</td>\n",
       "      <td>b'&lt;oldpEndMa&gt;E&lt;![CDA&lt;l x\\xedlns=\"/&gt;)3) xmlns=\"...</td>\n",
       "      <td>0</td>\n",
       "    </tr>\n",
       "    <tr>\n",
       "      <th>4</th>\n",
       "      <td>0.779685</td>\n",
       "      <td>0.035971</td>\n",
       "      <td>0.0</td>\n",
       "      <td>0.000000</td>\n",
       "      <td>0.0</td>\n",
       "      <td>0.000000</td>\n",
       "      <td>0.0</td>\n",
       "      <td>0.000000</td>\n",
       "      <td>0.0</td>\n",
       "      <td>0.0</td>\n",
       "      <td>...</td>\n",
       "      <td>0</td>\n",
       "      <td>0</td>\n",
       "      <td>1</td>\n",
       "      <td>0</td>\n",
       "      <td>0</td>\n",
       "      <td>0</td>\n",
       "      <td>0</td>\n",
       "      <td>0</td>\n",
       "      <td>b'&lt;!D\\x00\\x00\\x00\\x00PEUrsCTY\\xffEv\\\\[U\\xff\\xf...</td>\n",
       "      <td>0</td>\n",
       "    </tr>\n",
       "    <tr>\n",
       "      <th>...</th>\n",
       "      <td>...</td>\n",
       "      <td>...</td>\n",
       "      <td>...</td>\n",
       "      <td>...</td>\n",
       "      <td>...</td>\n",
       "      <td>...</td>\n",
       "      <td>...</td>\n",
       "      <td>...</td>\n",
       "      <td>...</td>\n",
       "      <td>...</td>\n",
       "      <td>...</td>\n",
       "      <td>...</td>\n",
       "      <td>...</td>\n",
       "      <td>...</td>\n",
       "      <td>...</td>\n",
       "      <td>...</td>\n",
       "      <td>...</td>\n",
       "      <td>...</td>\n",
       "      <td>...</td>\n",
       "      <td>...</td>\n",
       "      <td>...</td>\n",
       "    </tr>\n",
       "    <tr>\n",
       "      <th>1042902</th>\n",
       "      <td>0.642829</td>\n",
       "      <td>0.021583</td>\n",
       "      <td>0.0</td>\n",
       "      <td>0.000000</td>\n",
       "      <td>0.0</td>\n",
       "      <td>0.000000</td>\n",
       "      <td>0.0</td>\n",
       "      <td>0.000000</td>\n",
       "      <td>0.0</td>\n",
       "      <td>0.0</td>\n",
       "      <td>...</td>\n",
       "      <td>0</td>\n",
       "      <td>1</td>\n",
       "      <td>0</td>\n",
       "      <td>0</td>\n",
       "      <td>0</td>\n",
       "      <td>0</td>\n",
       "      <td>0</td>\n",
       "      <td>0</td>\n",
       "      <td>b'\\xff\\xfe\\xfe\\xfe@\\x80\\x00\\xd9&lt;?xml encofing=...</td>\n",
       "      <td>1</td>\n",
       "    </tr>\n",
       "    <tr>\n",
       "      <th>1042903</th>\n",
       "      <td>0.680316</td>\n",
       "      <td>0.122302</td>\n",
       "      <td>0.0</td>\n",
       "      <td>0.007353</td>\n",
       "      <td>0.0</td>\n",
       "      <td>0.007246</td>\n",
       "      <td>0.0</td>\n",
       "      <td>0.000000</td>\n",
       "      <td>0.0</td>\n",
       "      <td>0.0</td>\n",
       "      <td>...</td>\n",
       "      <td>0</td>\n",
       "      <td>0</td>\n",
       "      <td>0</td>\n",
       "      <td>0</td>\n",
       "      <td>0</td>\n",
       "      <td>0</td>\n",
       "      <td>0</td>\n",
       "      <td>0</td>\n",
       "      <td>b'\\xfe\\xff\\x00\\x00\\x00\\x00\\x00\\x00\\x00\\x00\\x00...</td>\n",
       "      <td>1</td>\n",
       "    </tr>\n",
       "    <tr>\n",
       "      <th>1042904</th>\n",
       "      <td>0.762516</td>\n",
       "      <td>0.007194</td>\n",
       "      <td>0.0</td>\n",
       "      <td>0.000000</td>\n",
       "      <td>0.0</td>\n",
       "      <td>0.000000</td>\n",
       "      <td>0.0</td>\n",
       "      <td>0.000000</td>\n",
       "      <td>0.0</td>\n",
       "      <td>0.0</td>\n",
       "      <td>...</td>\n",
       "      <td>0</td>\n",
       "      <td>0</td>\n",
       "      <td>0</td>\n",
       "      <td>0</td>\n",
       "      <td>1</td>\n",
       "      <td>0</td>\n",
       "      <td>0</td>\n",
       "      <td>0</td>\n",
       "      <td>b'\\xff\\xfe\\xfe\\xfeS\\xfe\\xfe\\xfe@\\xf5\\xd9\\xd9&lt;?...</td>\n",
       "      <td>1</td>\n",
       "    </tr>\n",
       "    <tr>\n",
       "      <th>1042905</th>\n",
       "      <td>0.569356</td>\n",
       "      <td>0.050360</td>\n",
       "      <td>0.0</td>\n",
       "      <td>0.000000</td>\n",
       "      <td>0.0</td>\n",
       "      <td>0.000000</td>\n",
       "      <td>0.0</td>\n",
       "      <td>0.000000</td>\n",
       "      <td>0.0</td>\n",
       "      <td>0.0</td>\n",
       "      <td>...</td>\n",
       "      <td>0</td>\n",
       "      <td>0</td>\n",
       "      <td>0</td>\n",
       "      <td>0</td>\n",
       "      <td>1</td>\n",
       "      <td>0</td>\n",
       "      <td>0</td>\n",
       "      <td>0</td>\n",
       "      <td>b'&lt;?xml encoding=\"UK\\x00xl\\xd1\\xfe\\xff\\xff\\xfe...</td>\n",
       "      <td>1</td>\n",
       "    </tr>\n",
       "    <tr>\n",
       "      <th>1042906</th>\n",
       "      <td>0.791092</td>\n",
       "      <td>0.021583</td>\n",
       "      <td>0.0</td>\n",
       "      <td>0.000000</td>\n",
       "      <td>0.0</td>\n",
       "      <td>0.000000</td>\n",
       "      <td>0.0</td>\n",
       "      <td>0.000000</td>\n",
       "      <td>0.0</td>\n",
       "      <td>0.0</td>\n",
       "      <td>...</td>\n",
       "      <td>0</td>\n",
       "      <td>0</td>\n",
       "      <td>0</td>\n",
       "      <td>0</td>\n",
       "      <td>0</td>\n",
       "      <td>0</td>\n",
       "      <td>0</td>\n",
       "      <td>0</td>\n",
       "      <td>b'\\xfe\\xff\\xda\\xdd&lt;?xml FncfH&gt;danYonsld xrn&lt;!D...</td>\n",
       "      <td>1</td>\n",
       "    </tr>\n",
       "  </tbody>\n",
       "</table>\n",
       "<p>1042907 rows × 359 columns</p>\n",
       "</div>"
      ],
      "text/plain": [
       "          entropy         \u0000    \u0001         \u0002    \u0003         \u0004    \u0005         \u0006    \u0007  \\\n",
       "0        0.645256  0.021583  0.0  0.000000  0.0  0.000000  0.0  0.000000  0.0   \n",
       "1        0.687793  0.000000  0.0  0.000000  0.0  0.000000  0.0  0.000000  0.0   \n",
       "2        0.801382  0.000000  0.0  0.000000  0.0  0.000000  0.0  0.000000  0.0   \n",
       "3        0.782414  0.000000  0.0  0.000000  0.0  0.000000  0.0  0.007246  0.0   \n",
       "4        0.779685  0.035971  0.0  0.000000  0.0  0.000000  0.0  0.000000  0.0   \n",
       "...           ...       ...  ...       ...  ...       ...  ...       ...  ...   \n",
       "1042902  0.642829  0.021583  0.0  0.000000  0.0  0.000000  0.0  0.000000  0.0   \n",
       "1042903  0.680316  0.122302  0.0  0.007353  0.0  0.007246  0.0  0.000000  0.0   \n",
       "1042904  0.762516  0.007194  0.0  0.000000  0.0  0.000000  0.0  0.000000  0.0   \n",
       "1042905  0.569356  0.050360  0.0  0.000000  0.0  0.000000  0.0  0.000000  0.0   \n",
       "1042906  0.791092  0.021583  0.0  0.000000  0.0  0.000000  0.0  0.000000  0.0   \n",
       "\n",
       "           \b  ...  b'!ENTITYd<!'  b'\\xff\\xfe\\xfe\\xfe@\\x80\\x00\\xd9<?'  \\\n",
       "0        0.0  ...              0                                   0   \n",
       "1        0.0  ...              0                                   0   \n",
       "2        0.0  ...              1                                   0   \n",
       "3        0.0  ...              0                                   0   \n",
       "4        0.0  ...              0                                   0   \n",
       "...      ...  ...            ...                                 ...   \n",
       "1042902  0.0  ...              0                                   1   \n",
       "1042903  0.0  ...              0                                   0   \n",
       "1042904  0.0  ...              0                                   0   \n",
       "1042905  0.0  ...              0                                   0   \n",
       "1042906  0.0  ...              0                                   0   \n",
       "\n",
       "         b'ENTITYd<!A'  b'ITYd<!ATTL'  b'rsion=\"2.5'  b'NTITYd<!AT'  \\\n",
       "0                    0              0              0              0   \n",
       "1                    0              0              0              0   \n",
       "2                    1              1              0              1   \n",
       "3                    0              0              0              0   \n",
       "4                    1              0              0              0   \n",
       "...                ...            ...            ...            ...   \n",
       "1042902              0              0              0              0   \n",
       "1042903              0              0              0              0   \n",
       "1042904              0              0              1              0   \n",
       "1042905              0              0              1              0   \n",
       "1042906              0              0              0              0   \n",
       "\n",
       "         b'TITYd<!ATT'  b'rsion=\"1.0'  \\\n",
       "0                    0              0   \n",
       "1                    0              0   \n",
       "2                    1              0   \n",
       "3                    0              0   \n",
       "4                    0              0   \n",
       "...                ...            ...   \n",
       "1042902              0              0   \n",
       "1042903              0              0   \n",
       "1042904              0              0   \n",
       "1042905              0              0   \n",
       "1042906              0              0   \n",
       "\n",
       "                                                    sample  crash  \n",
       "0        b'<!DOCTYPE%;%[G\\xff;\\x00<\\xcd<\\x8fDOCTYPE\\xff...      0  \n",
       "1        b'<!D<!ATTL<!DOCTYPETYdOCTYPEU\\\\[<!ENTIU\\\\[<!E...      0  \n",
       "2        b'<Yxml xml:spaceml:dio7=\\'g\\n\\n\\n\\n\\n\\n\\n\\n\\n...      0  \n",
       "3        b'<oldpEndMa>E<![CDA<l x\\xedlns=\"/>)3) xmlns=\"...      0  \n",
       "4        b'<!D\\x00\\x00\\x00\\x00PEUrsCTY\\xffEv\\\\[U\\xff\\xf...      0  \n",
       "...                                                    ...    ...  \n",
       "1042902  b'\\xff\\xfe\\xfe\\xfe@\\x80\\x00\\xd9<?xml encofing=...      1  \n",
       "1042903  b'\\xfe\\xff\\x00\\x00\\x00\\x00\\x00\\x00\\x00\\x00\\x00...      1  \n",
       "1042904  b'\\xff\\xfe\\xfe\\xfeS\\xfe\\xfe\\xfe@\\xf5\\xd9\\xd9<?...      1  \n",
       "1042905  b'<?xml encoding=\"UK\\x00xl\\xd1\\xfe\\xff\\xff\\xfe...      1  \n",
       "1042906  b'\\xfe\\xff\\xda\\xdd<?xml FncfH>danYonsld xrn<!D...      1  \n",
       "\n",
       "[1042907 rows x 359 columns]"
      ]
     },
     "execution_count": 21,
     "metadata": {},
     "output_type": "execute_result"
    }
   ],
   "source": [
    "df2"
   ]
  },
  {
   "cell_type": "code",
   "execution_count": 22,
   "id": "91f17436-04ad-4cba-890e-a5eb7dad6252",
   "metadata": {},
   "outputs": [],
   "source": [
    "with open(\"data/libxml2_metadata.pkl\", \"wb\") as f:\n",
    "    pickle.dump({\"max_ent\": max_ent, \"max_byte_counts\": max_byte_counts }, f)"
   ]
  },
  {
   "cell_type": "code",
   "execution_count": null,
   "id": "056b84a4-d31c-45e0-8aef-d3078045ed88",
   "metadata": {},
   "outputs": [],
   "source": []
  }
 ],
 "metadata": {
  "kernelspec": {
   "display_name": "amira",
   "language": "python",
   "name": "amira"
  },
  "language_info": {
   "codemirror_mode": {
    "name": "ipython",
    "version": 3
   },
   "file_extension": ".py",
   "mimetype": "text/x-python",
   "name": "python",
   "nbconvert_exporter": "python",
   "pygments_lexer": "ipython3",
   "version": "3.9.18"
  }
 },
 "nbformat": 4,
 "nbformat_minor": 5
}
